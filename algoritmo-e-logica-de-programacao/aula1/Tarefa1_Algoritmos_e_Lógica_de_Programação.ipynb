{
  "nbformat": 4,
  "nbformat_minor": 0,
  "metadata": {
    "colab": {
      "provenance": [],
      "authorship_tag": "ABX9TyPCPFjzwBZmTt+8wmfmlYJn",
      "include_colab_link": true
    },
    "kernelspec": {
      "name": "python3",
      "display_name": "Python 3"
    },
    "language_info": {
      "name": "python"
    }
  },
  "cells": [
    {
      "cell_type": "markdown",
      "metadata": {
        "id": "view-in-github",
        "colab_type": "text"
      },
      "source": [
        "<a href=\"https://colab.research.google.com/github/aisha-ramiro/fatec-ads/blob/main/Tarefa1_Algoritmos_e_L%C3%B3gica_de_Programa%C3%A7%C3%A3o.ipynb\" target=\"_parent\"><img src=\"https://colab.research.google.com/assets/colab-badge.svg\" alt=\"Open In Colab\"/></a>"
      ]
    },
    {
      "cell_type": "code",
      "execution_count": 1,
      "metadata": {
        "colab": {
          "base_uri": "https://localhost:8080/"
        },
        "id": "mi6mGh3BERM7",
        "outputId": "860ee79c-fcfc-41f1-cc07-ee511adb8afa"
      },
      "outputs": [
        {
          "output_type": "stream",
          "name": "stdout",
          "text": [
            "Olá, mundo!\n"
          ]
        }
      ],
      "source": [
        "# 1. Olá, mundo!\n",
        "\n",
        "print('Olá, mundo!')"
      ]
    },
    {
      "cell_type": "code",
      "source": [
        "# 2. Seu nome\n",
        "\n",
        "nome = input('Digite o seu nome: ')\n",
        "\n",
        "print('Olá, ' + nome + '!')"
      ],
      "metadata": {
        "colab": {
          "base_uri": "https://localhost:8080/"
        },
        "id": "nkmesI3HFVZa",
        "outputId": "ab1979ea-bcaa-451b-c28a-ca280a59f97d"
      },
      "execution_count": 30,
      "outputs": [
        {
          "output_type": "stream",
          "name": "stdout",
          "text": [
            "Digite o seu nome: Aisha\n",
            "Olá, Aisha!\n"
          ]
        }
      ]
    },
    {
      "cell_type": "code",
      "source": [
        "# 3. Mensagem Multilinha\n",
        "\n",
        "print('''\n",
        "Dados do aluno:\n",
        "- Nome: Aisha\n",
        "- Idade: 23 anos\n",
        "- Cidade: Monte Alto\n",
        "- Curso: Análise e Desenvolvimento de Sistemas\n",
        "- Período: 1º Semestre\n",
        "''')"
      ],
      "metadata": {
        "colab": {
          "base_uri": "https://localhost:8080/"
        },
        "id": "3bJqdyToFmAI",
        "outputId": "387dde06-641f-426d-f9fe-b3021384daa2"
      },
      "execution_count": 4,
      "outputs": [
        {
          "output_type": "stream",
          "name": "stdout",
          "text": [
            "\n",
            "Dados do aluno:\n",
            "- Nome: Aisha\n",
            "- Idade: 23 anos\n",
            "- Cidade: Monte Alto\n",
            "- Curso: Análise e Desenvolvimento de Sistemas\n",
            "- Período: 1º Semestre\n",
            "\n"
          ]
        }
      ]
    },
    {
      "cell_type": "code",
      "source": [
        "# 4. Concatenação de Strings\n",
        "\n",
        "parte1 = 'Estou estudando: '\n",
        "parte2 = 'Python!'\n",
        "\n",
        "print(parte1 + parte2)"
      ],
      "metadata": {
        "colab": {
          "base_uri": "https://localhost:8080/"
        },
        "id": "hHtKe9_GGZW3",
        "outputId": "0754fb52-028c-4b25-b00c-e74566a85fe6"
      },
      "execution_count": 5,
      "outputs": [
        {
          "output_type": "stream",
          "name": "stdout",
          "text": [
            "Estou estudando: Python!\n"
          ]
        }
      ]
    },
    {
      "cell_type": "code",
      "source": [
        "# 5. Citação Famosa\n",
        "\n",
        "print('Fiódor Dostoiévski me marcou muito com uma passagem em sua obra \"Crime e Castigo\": \"Tudo está ao alcance do homem, e ele deixa isso tudo escapar por medo.\"')"
      ],
      "metadata": {
        "colab": {
          "base_uri": "https://localhost:8080/"
        },
        "id": "yywgWhM_HbTs",
        "outputId": "d1dccc2c-7a7e-4d82-a73b-bdc659f713b0"
      },
      "execution_count": 7,
      "outputs": [
        {
          "output_type": "stream",
          "name": "stdout",
          "text": [
            "Fiódor Dostoiévski me marcou muito com uma passagem em sua obra \"Crime e Castigo\": \"Tudo está ao alcance do homem, e ele deixa isso tudo escapar por medo.\"\n"
          ]
        }
      ]
    },
    {
      "cell_type": "code",
      "source": [
        "# 6. Operações Matemáticas Simples\n",
        "\n",
        "soma = 2 + 3\n",
        "subtracao = 10 - 2\n",
        "multiplicacao = 5 * 6\n",
        "\n",
        "print('Soma: ' + str(soma))\n",
        "print('Subtração: ' + str(subtracao))\n",
        "print('Multiplicação: ' + str(multiplicacao))\n",
        "\n",
        "# Obs: Utilizei o str() para converter os valores int em string, possibilitando assim a concatenação"
      ],
      "metadata": {
        "colab": {
          "base_uri": "https://localhost:8080/"
        },
        "id": "_Ip-GjVdIe7A",
        "outputId": "a5c84d89-14a4-4709-995e-34c335b87f5e"
      },
      "execution_count": 11,
      "outputs": [
        {
          "output_type": "stream",
          "name": "stdout",
          "text": [
            "Soma: 5\n",
            "Subtração: 8\n",
            "Multiplicação: 30\n"
          ]
        }
      ]
    },
    {
      "cell_type": "code",
      "source": [
        "# 7. Listando Informações\n",
        "\n",
        "lista_de_compras = ['Maçã', 'Banana', 'Macarrão', 'Queijo']\n",
        "\n",
        "print('Lista de items para comprar: ')\n",
        "for item in lista_de_compras:\n",
        "  print(item)\n",
        "\n",
        "# Obs: Optei por inserir as informações em um array e utilizar o 'for...in' para percorrer todos os elementos desse array e os listar."
      ],
      "metadata": {
        "colab": {
          "base_uri": "https://localhost:8080/"
        },
        "id": "wlXMoX-VJQy-",
        "outputId": "3b5ef97a-3a98-4996-cf7d-10de9b320f73"
      },
      "execution_count": 13,
      "outputs": [
        {
          "output_type": "stream",
          "name": "stdout",
          "text": [
            "Lista de items para comprar: \n",
            "Maçã\n",
            "Banana\n",
            "Macarrão\n",
            "Queijo\n"
          ]
        }
      ]
    },
    {
      "cell_type": "code",
      "source": [
        "# 8. Formatação com .format()\n",
        "\n",
        "curso = \"Análise e Desenvolvimento de Sistemas\"\n",
        "alunos = 40\n",
        "\n",
        "print('O curso de {} conta com {} alunos ativos.' .format(curso, alunos)) # o .format() vai formatar as strings e inserir as variáveis de maneira flexível nos locais reservados com {}"
      ],
      "metadata": {
        "colab": {
          "base_uri": "https://localhost:8080/"
        },
        "id": "O5GcB0orMxFL",
        "outputId": "faa64cd4-9ed1-4a0e-acc5-0db0f2d414f3"
      },
      "execution_count": 14,
      "outputs": [
        {
          "output_type": "stream",
          "name": "stdout",
          "text": [
            "O curso de Análise e Desenvolvimento de Sistemas conta com 40 alunos ativos.\n"
          ]
        }
      ]
    },
    {
      "cell_type": "code",
      "source": [
        "# 9. F-Strings\n",
        "\n",
        "aluno = input('Digite o nome do aluno: ')\n",
        "nota = float(input('Digite o valor da nota: '))\n",
        "\n",
        "print(f'A nota do(a) aluno(a) {aluno} é: {nota:.1f}') # o f-strings é uma forma mais simples de formatar e concatenar as strings. É necessário utilizar o prefixo f e declarar as variáveis dentro de {}.\n",
        "\n",
        "# Obs. Utilizei o float(input()) para inserir o valor da nota.\n",
        "# na segunda variável, usei o .1f para formatar o valor de nota e mostrar uma casa decimal."
      ],
      "metadata": {
        "colab": {
          "base_uri": "https://localhost:8080/"
        },
        "id": "DFCj7T_bOXX1",
        "outputId": "bb9446a8-b4c0-43c8-82d7-bf9af291b1bb"
      },
      "execution_count": 33,
      "outputs": [
        {
          "output_type": "stream",
          "name": "stdout",
          "text": [
            "Digite o nome do aluno: Gabriele\n",
            "Digite o valor da nota: 10\n",
            "A nota do(a) aluno(a) Gabriele é: 10.0\n"
          ]
        }
      ]
    },
    {
      "cell_type": "code",
      "source": [
        "# 10. Tabela de Multiplicação\n",
        "\n",
        "for n in range(1,6): # loop externo para a linha, define o primeiro valor, n é a variável que será atribuida, 1 é onde começa e 6 onde termina, sendo o 6 excluído\n",
        "  print(f'Tabuada do {n}')\n",
        "  for i in range(1, 11): # loop externo para a coluna, define o segundo valor, atribuido ao primeiro\n",
        "    print(f'{n} x {i} = {n*i}')\n",
        "  print('---')"
      ],
      "metadata": {
        "colab": {
          "base_uri": "https://localhost:8080/"
        },
        "id": "M4atn3xWSLtW",
        "outputId": "51f8ca9c-b271-4985-f3f8-8a76fd2d1b18"
      },
      "execution_count": 29,
      "outputs": [
        {
          "output_type": "stream",
          "name": "stdout",
          "text": [
            "Tabuada do 1\n",
            "1 x 1 = 1\n",
            "1 x 2 = 2\n",
            "1 x 3 = 3\n",
            "1 x 4 = 4\n",
            "1 x 5 = 5\n",
            "1 x 6 = 6\n",
            "1 x 7 = 7\n",
            "1 x 8 = 8\n",
            "1 x 9 = 9\n",
            "1 x 10 = 10\n",
            "---\n",
            "Tabuada do 2\n",
            "2 x 1 = 2\n",
            "2 x 2 = 4\n",
            "2 x 3 = 6\n",
            "2 x 4 = 8\n",
            "2 x 5 = 10\n",
            "2 x 6 = 12\n",
            "2 x 7 = 14\n",
            "2 x 8 = 16\n",
            "2 x 9 = 18\n",
            "2 x 10 = 20\n",
            "---\n",
            "Tabuada do 3\n",
            "3 x 1 = 3\n",
            "3 x 2 = 6\n",
            "3 x 3 = 9\n",
            "3 x 4 = 12\n",
            "3 x 5 = 15\n",
            "3 x 6 = 18\n",
            "3 x 7 = 21\n",
            "3 x 8 = 24\n",
            "3 x 9 = 27\n",
            "3 x 10 = 30\n",
            "---\n",
            "Tabuada do 4\n",
            "4 x 1 = 4\n",
            "4 x 2 = 8\n",
            "4 x 3 = 12\n",
            "4 x 4 = 16\n",
            "4 x 5 = 20\n",
            "4 x 6 = 24\n",
            "4 x 7 = 28\n",
            "4 x 8 = 32\n",
            "4 x 9 = 36\n",
            "4 x 10 = 40\n",
            "---\n",
            "Tabuada do 5\n",
            "5 x 1 = 5\n",
            "5 x 2 = 10\n",
            "5 x 3 = 15\n",
            "5 x 4 = 20\n",
            "5 x 5 = 25\n",
            "5 x 6 = 30\n",
            "5 x 7 = 35\n",
            "5 x 8 = 40\n",
            "5 x 9 = 45\n",
            "5 x 10 = 50\n",
            "---\n"
          ]
        }
      ]
    }
  ]
}